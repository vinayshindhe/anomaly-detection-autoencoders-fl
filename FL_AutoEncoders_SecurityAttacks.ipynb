{
  "nbformat": 4,
  "nbformat_minor": 0,
  "metadata": {
    "colab": {
      "provenance": []
    },
    "kernelspec": {
      "name": "python3",
      "display_name": "Python 3"
    },
    "language_info": {
      "name": "python"
    }
  },
  "cells": [
    {
      "cell_type": "code",
      "source": [
        "!pip install torch torchvision torchaudio\n"
      ],
      "metadata": {
        "id": "yuxwJynwgiYz",
        "colab": {
          "base_uri": "https://localhost:8080/"
        },
        "collapsed": true,
        "outputId": "fcfa86b0-b7eb-46fd-e3f7-1fe49ab01601"
      },
      "execution_count": null,
      "outputs": [
        {
          "output_type": "stream",
          "name": "stdout",
          "text": [
            "Requirement already satisfied: torch in /usr/local/lib/python3.11/dist-packages (2.6.0+cu124)\n",
            "Requirement already satisfied: torchvision in /usr/local/lib/python3.11/dist-packages (0.21.0+cu124)\n",
            "Requirement already satisfied: torchaudio in /usr/local/lib/python3.11/dist-packages (2.6.0+cu124)\n",
            "Requirement already satisfied: filelock in /usr/local/lib/python3.11/dist-packages (from torch) (3.18.0)\n",
            "Requirement already satisfied: typing-extensions>=4.10.0 in /usr/local/lib/python3.11/dist-packages (from torch) (4.13.2)\n",
            "Requirement already satisfied: networkx in /usr/local/lib/python3.11/dist-packages (from torch) (3.4.2)\n",
            "Requirement already satisfied: jinja2 in /usr/local/lib/python3.11/dist-packages (from torch) (3.1.6)\n",
            "Requirement already satisfied: fsspec in /usr/local/lib/python3.11/dist-packages (from torch) (2025.3.2)\n",
            "Collecting nvidia-cuda-nvrtc-cu12==12.4.127 (from torch)\n",
            "  Downloading nvidia_cuda_nvrtc_cu12-12.4.127-py3-none-manylinux2014_x86_64.whl.metadata (1.5 kB)\n",
            "Collecting nvidia-cuda-runtime-cu12==12.4.127 (from torch)\n",
            "  Downloading nvidia_cuda_runtime_cu12-12.4.127-py3-none-manylinux2014_x86_64.whl.metadata (1.5 kB)\n",
            "Collecting nvidia-cuda-cupti-cu12==12.4.127 (from torch)\n",
            "  Downloading nvidia_cuda_cupti_cu12-12.4.127-py3-none-manylinux2014_x86_64.whl.metadata (1.6 kB)\n",
            "Collecting nvidia-cudnn-cu12==9.1.0.70 (from torch)\n",
            "  Downloading nvidia_cudnn_cu12-9.1.0.70-py3-none-manylinux2014_x86_64.whl.metadata (1.6 kB)\n",
            "Collecting nvidia-cublas-cu12==12.4.5.8 (from torch)\n",
            "  Downloading nvidia_cublas_cu12-12.4.5.8-py3-none-manylinux2014_x86_64.whl.metadata (1.5 kB)\n",
            "Collecting nvidia-cufft-cu12==11.2.1.3 (from torch)\n",
            "  Downloading nvidia_cufft_cu12-11.2.1.3-py3-none-manylinux2014_x86_64.whl.metadata (1.5 kB)\n",
            "Collecting nvidia-curand-cu12==10.3.5.147 (from torch)\n",
            "  Downloading nvidia_curand_cu12-10.3.5.147-py3-none-manylinux2014_x86_64.whl.metadata (1.5 kB)\n",
            "Collecting nvidia-cusolver-cu12==11.6.1.9 (from torch)\n",
            "  Downloading nvidia_cusolver_cu12-11.6.1.9-py3-none-manylinux2014_x86_64.whl.metadata (1.6 kB)\n",
            "Collecting nvidia-cusparse-cu12==12.3.1.170 (from torch)\n",
            "  Downloading nvidia_cusparse_cu12-12.3.1.170-py3-none-manylinux2014_x86_64.whl.metadata (1.6 kB)\n",
            "Requirement already satisfied: nvidia-cusparselt-cu12==0.6.2 in /usr/local/lib/python3.11/dist-packages (from torch) (0.6.2)\n",
            "Requirement already satisfied: nvidia-nccl-cu12==2.21.5 in /usr/local/lib/python3.11/dist-packages (from torch) (2.21.5)\n",
            "Requirement already satisfied: nvidia-nvtx-cu12==12.4.127 in /usr/local/lib/python3.11/dist-packages (from torch) (12.4.127)\n",
            "Collecting nvidia-nvjitlink-cu12==12.4.127 (from torch)\n",
            "  Downloading nvidia_nvjitlink_cu12-12.4.127-py3-none-manylinux2014_x86_64.whl.metadata (1.5 kB)\n",
            "Requirement already satisfied: triton==3.2.0 in /usr/local/lib/python3.11/dist-packages (from torch) (3.2.0)\n",
            "Requirement already satisfied: sympy==1.13.1 in /usr/local/lib/python3.11/dist-packages (from torch) (1.13.1)\n",
            "Requirement already satisfied: mpmath<1.4,>=1.1.0 in /usr/local/lib/python3.11/dist-packages (from sympy==1.13.1->torch) (1.3.0)\n",
            "Requirement already satisfied: numpy in /usr/local/lib/python3.11/dist-packages (from torchvision) (2.0.2)\n",
            "Requirement already satisfied: pillow!=8.3.*,>=5.3.0 in /usr/local/lib/python3.11/dist-packages (from torchvision) (11.2.1)\n",
            "Requirement already satisfied: MarkupSafe>=2.0 in /usr/local/lib/python3.11/dist-packages (from jinja2->torch) (3.0.2)\n",
            "Downloading nvidia_cublas_cu12-12.4.5.8-py3-none-manylinux2014_x86_64.whl (363.4 MB)\n",
            "\u001b[2K   \u001b[90m━━━━━━━━━━━━━━━━━━━━━━━━━━━━━━━━━━━━━━━━\u001b[0m \u001b[32m363.4/363.4 MB\u001b[0m \u001b[31m4.5 MB/s\u001b[0m eta \u001b[36m0:00:00\u001b[0m\n",
            "\u001b[?25hDownloading nvidia_cuda_cupti_cu12-12.4.127-py3-none-manylinux2014_x86_64.whl (13.8 MB)\n",
            "\u001b[2K   \u001b[90m━━━━━━━━━━━━━━━━━━━━━━━━━━━━━━━━━━━━━━━━\u001b[0m \u001b[32m13.8/13.8 MB\u001b[0m \u001b[31m102.9 MB/s\u001b[0m eta \u001b[36m0:00:00\u001b[0m\n",
            "\u001b[?25hDownloading nvidia_cuda_nvrtc_cu12-12.4.127-py3-none-manylinux2014_x86_64.whl (24.6 MB)\n",
            "\u001b[2K   \u001b[90m━━━━━━━━━━━━━━━━━━━━━━━━━━━━━━━━━━━━━━━━\u001b[0m \u001b[32m24.6/24.6 MB\u001b[0m \u001b[31m81.1 MB/s\u001b[0m eta \u001b[36m0:00:00\u001b[0m\n",
            "\u001b[?25hDownloading nvidia_cuda_runtime_cu12-12.4.127-py3-none-manylinux2014_x86_64.whl (883 kB)\n",
            "\u001b[2K   \u001b[90m━━━━━━━━━━━━━━━━━━━━━━━━━━━━━━━━━━━━━━━━\u001b[0m \u001b[32m883.7/883.7 kB\u001b[0m \u001b[31m48.6 MB/s\u001b[0m eta \u001b[36m0:00:00\u001b[0m\n",
            "\u001b[?25hDownloading nvidia_cudnn_cu12-9.1.0.70-py3-none-manylinux2014_x86_64.whl (664.8 MB)\n",
            "\u001b[2K   \u001b[90m━━━━━━━━━━━━━━━━━━━━━━━━━━━━━━━━━━━━━━━━\u001b[0m \u001b[32m664.8/664.8 MB\u001b[0m \u001b[31m2.8 MB/s\u001b[0m eta \u001b[36m0:00:00\u001b[0m\n",
            "\u001b[?25hDownloading nvidia_cufft_cu12-11.2.1.3-py3-none-manylinux2014_x86_64.whl (211.5 MB)\n",
            "\u001b[2K   \u001b[90m━━━━━━━━━━━━━━━━━━━━━━━━━━━━━━━━━━━━━━━━\u001b[0m \u001b[32m211.5/211.5 MB\u001b[0m \u001b[31m6.1 MB/s\u001b[0m eta \u001b[36m0:00:00\u001b[0m\n",
            "\u001b[?25hDownloading nvidia_curand_cu12-10.3.5.147-py3-none-manylinux2014_x86_64.whl (56.3 MB)\n",
            "\u001b[2K   \u001b[90m━━━━━━━━━━━━━━━━━━━━━━━━━━━━━━━━━━━━━━━━\u001b[0m \u001b[32m56.3/56.3 MB\u001b[0m \u001b[31m12.3 MB/s\u001b[0m eta \u001b[36m0:00:00\u001b[0m\n",
            "\u001b[?25hDownloading nvidia_cusolver_cu12-11.6.1.9-py3-none-manylinux2014_x86_64.whl (127.9 MB)\n",
            "\u001b[2K   \u001b[90m━━━━━━━━━━━━━━━━━━━━━━━━━━━━━━━━━━━━━━━━\u001b[0m \u001b[32m127.9/127.9 MB\u001b[0m \u001b[31m7.4 MB/s\u001b[0m eta \u001b[36m0:00:00\u001b[0m\n",
            "\u001b[?25hDownloading nvidia_cusparse_cu12-12.3.1.170-py3-none-manylinux2014_x86_64.whl (207.5 MB)\n",
            "\u001b[2K   \u001b[90m━━━━━━━━━━━━━━━━━━━━━━━━━━━━━━━━━━━━━━━━\u001b[0m \u001b[32m207.5/207.5 MB\u001b[0m \u001b[31m5.9 MB/s\u001b[0m eta \u001b[36m0:00:00\u001b[0m\n",
            "\u001b[?25hDownloading nvidia_nvjitlink_cu12-12.4.127-py3-none-manylinux2014_x86_64.whl (21.1 MB)\n",
            "\u001b[2K   \u001b[90m━━━━━━━━━━━━━━━━━━━━━━━━━━━━━━━━━━━━━━━━\u001b[0m \u001b[32m21.1/21.1 MB\u001b[0m \u001b[31m90.0 MB/s\u001b[0m eta \u001b[36m0:00:00\u001b[0m\n",
            "\u001b[?25hInstalling collected packages: nvidia-nvjitlink-cu12, nvidia-curand-cu12, nvidia-cufft-cu12, nvidia-cuda-runtime-cu12, nvidia-cuda-nvrtc-cu12, nvidia-cuda-cupti-cu12, nvidia-cublas-cu12, nvidia-cusparse-cu12, nvidia-cudnn-cu12, nvidia-cusolver-cu12\n",
            "  Attempting uninstall: nvidia-nvjitlink-cu12\n",
            "    Found existing installation: nvidia-nvjitlink-cu12 12.5.82\n",
            "    Uninstalling nvidia-nvjitlink-cu12-12.5.82:\n",
            "      Successfully uninstalled nvidia-nvjitlink-cu12-12.5.82\n",
            "  Attempting uninstall: nvidia-curand-cu12\n",
            "    Found existing installation: nvidia-curand-cu12 10.3.6.82\n",
            "    Uninstalling nvidia-curand-cu12-10.3.6.82:\n",
            "      Successfully uninstalled nvidia-curand-cu12-10.3.6.82\n",
            "  Attempting uninstall: nvidia-cufft-cu12\n",
            "    Found existing installation: nvidia-cufft-cu12 11.2.3.61\n",
            "    Uninstalling nvidia-cufft-cu12-11.2.3.61:\n",
            "      Successfully uninstalled nvidia-cufft-cu12-11.2.3.61\n",
            "  Attempting uninstall: nvidia-cuda-runtime-cu12\n",
            "    Found existing installation: nvidia-cuda-runtime-cu12 12.5.82\n",
            "    Uninstalling nvidia-cuda-runtime-cu12-12.5.82:\n",
            "      Successfully uninstalled nvidia-cuda-runtime-cu12-12.5.82\n",
            "  Attempting uninstall: nvidia-cuda-nvrtc-cu12\n",
            "    Found existing installation: nvidia-cuda-nvrtc-cu12 12.5.82\n",
            "    Uninstalling nvidia-cuda-nvrtc-cu12-12.5.82:\n",
            "      Successfully uninstalled nvidia-cuda-nvrtc-cu12-12.5.82\n",
            "  Attempting uninstall: nvidia-cuda-cupti-cu12\n",
            "    Found existing installation: nvidia-cuda-cupti-cu12 12.5.82\n",
            "    Uninstalling nvidia-cuda-cupti-cu12-12.5.82:\n",
            "      Successfully uninstalled nvidia-cuda-cupti-cu12-12.5.82\n",
            "  Attempting uninstall: nvidia-cublas-cu12\n",
            "    Found existing installation: nvidia-cublas-cu12 12.5.3.2\n",
            "    Uninstalling nvidia-cublas-cu12-12.5.3.2:\n",
            "      Successfully uninstalled nvidia-cublas-cu12-12.5.3.2\n",
            "  Attempting uninstall: nvidia-cusparse-cu12\n",
            "    Found existing installation: nvidia-cusparse-cu12 12.5.1.3\n",
            "    Uninstalling nvidia-cusparse-cu12-12.5.1.3:\n",
            "      Successfully uninstalled nvidia-cusparse-cu12-12.5.1.3\n",
            "  Attempting uninstall: nvidia-cudnn-cu12\n",
            "    Found existing installation: nvidia-cudnn-cu12 9.3.0.75\n",
            "    Uninstalling nvidia-cudnn-cu12-9.3.0.75:\n",
            "      Successfully uninstalled nvidia-cudnn-cu12-9.3.0.75\n",
            "  Attempting uninstall: nvidia-cusolver-cu12\n",
            "    Found existing installation: nvidia-cusolver-cu12 11.6.3.83\n",
            "    Uninstalling nvidia-cusolver-cu12-11.6.3.83:\n",
            "      Successfully uninstalled nvidia-cusolver-cu12-11.6.3.83\n",
            "Successfully installed nvidia-cublas-cu12-12.4.5.8 nvidia-cuda-cupti-cu12-12.4.127 nvidia-cuda-nvrtc-cu12-12.4.127 nvidia-cuda-runtime-cu12-12.4.127 nvidia-cudnn-cu12-9.1.0.70 nvidia-cufft-cu12-11.2.1.3 nvidia-curand-cu12-10.3.5.147 nvidia-cusolver-cu12-11.6.1.9 nvidia-cusparse-cu12-12.3.1.170 nvidia-nvjitlink-cu12-12.4.127\n"
          ]
        }
      ]
    },
    {
      "cell_type": "code",
      "source": [
        "!pip install flower\n"
      ],
      "metadata": {
        "colab": {
          "base_uri": "https://localhost:8080/"
        },
        "collapsed": true,
        "id": "2PqWBD2899WQ",
        "outputId": "8c42867a-d778-4e23-d0b5-0b046cb138d4"
      },
      "execution_count": null,
      "outputs": [
        {
          "output_type": "stream",
          "name": "stdout",
          "text": [
            "Collecting flower\n",
            "  Downloading flower-2.0.1-py2.py3-none-any.whl.metadata (4.5 kB)\n",
            "Collecting celery>=5.0.5 (from flower)\n",
            "  Downloading celery-5.5.2-py3-none-any.whl.metadata (22 kB)\n",
            "Requirement already satisfied: tornado<7.0.0,>=5.0.0 in /usr/local/lib/python3.11/dist-packages (from flower) (6.4.2)\n",
            "Requirement already satisfied: prometheus-client>=0.8.0 in /usr/local/lib/python3.11/dist-packages (from flower) (0.21.1)\n",
            "Requirement already satisfied: humanize in /usr/local/lib/python3.11/dist-packages (from flower) (4.12.3)\n",
            "Requirement already satisfied: pytz in /usr/local/lib/python3.11/dist-packages (from flower) (2025.2)\n",
            "Collecting billiard<5.0,>=4.2.1 (from celery>=5.0.5->flower)\n",
            "  Downloading billiard-4.2.1-py3-none-any.whl.metadata (4.4 kB)\n",
            "Collecting kombu<5.6,>=5.5.2 (from celery>=5.0.5->flower)\n",
            "  Downloading kombu-5.5.3-py3-none-any.whl.metadata (3.5 kB)\n",
            "Collecting vine<6.0,>=5.1.0 (from celery>=5.0.5->flower)\n",
            "  Downloading vine-5.1.0-py3-none-any.whl.metadata (2.7 kB)\n",
            "Requirement already satisfied: click<9.0,>=8.1.2 in /usr/local/lib/python3.11/dist-packages (from celery>=5.0.5->flower) (8.2.0)\n",
            "Collecting click-didyoumean>=0.3.0 (from celery>=5.0.5->flower)\n",
            "  Downloading click_didyoumean-0.3.1-py3-none-any.whl.metadata (3.9 kB)\n",
            "Collecting click-repl>=0.2.0 (from celery>=5.0.5->flower)\n",
            "  Downloading click_repl-0.3.0-py3-none-any.whl.metadata (3.6 kB)\n",
            "Collecting click-plugins>=1.1.1 (from celery>=5.0.5->flower)\n",
            "  Downloading click_plugins-1.1.1-py2.py3-none-any.whl.metadata (6.4 kB)\n",
            "Requirement already satisfied: python-dateutil>=2.8.2 in /usr/local/lib/python3.11/dist-packages (from celery>=5.0.5->flower) (2.9.0.post0)\n",
            "Requirement already satisfied: prompt-toolkit>=3.0.36 in /usr/local/lib/python3.11/dist-packages (from click-repl>=0.2.0->celery>=5.0.5->flower) (3.0.51)\n",
            "Collecting amqp<6.0.0,>=5.1.1 (from kombu<5.6,>=5.5.2->celery>=5.0.5->flower)\n",
            "  Downloading amqp-5.3.1-py3-none-any.whl.metadata (8.9 kB)\n",
            "Requirement already satisfied: tzdata>=2025.2 in /usr/local/lib/python3.11/dist-packages (from kombu<5.6,>=5.5.2->celery>=5.0.5->flower) (2025.2)\n",
            "Requirement already satisfied: six>=1.5 in /usr/local/lib/python3.11/dist-packages (from python-dateutil>=2.8.2->celery>=5.0.5->flower) (1.17.0)\n",
            "Requirement already satisfied: wcwidth in /usr/local/lib/python3.11/dist-packages (from prompt-toolkit>=3.0.36->click-repl>=0.2.0->celery>=5.0.5->flower) (0.2.13)\n",
            "Downloading flower-2.0.1-py2.py3-none-any.whl (383 kB)\n",
            "\u001b[2K   \u001b[90m━━━━━━━━━━━━━━━━━━━━━━━━━━━━━━━━━━━━━━━━\u001b[0m \u001b[32m383.6/383.6 kB\u001b[0m \u001b[31m23.5 MB/s\u001b[0m eta \u001b[36m0:00:00\u001b[0m\n",
            "\u001b[?25hDownloading celery-5.5.2-py3-none-any.whl (438 kB)\n",
            "\u001b[2K   \u001b[90m━━━━━━━━━━━━━━━━━━━━━━━━━━━━━━━━━━━━━━━━\u001b[0m \u001b[32m438.6/438.6 kB\u001b[0m \u001b[31m20.9 MB/s\u001b[0m eta \u001b[36m0:00:00\u001b[0m\n",
            "\u001b[?25hDownloading billiard-4.2.1-py3-none-any.whl (86 kB)\n",
            "\u001b[2K   \u001b[90m━━━━━━━━━━━━━━━━━━━━━━━━━━━━━━━━━━━━━━━━\u001b[0m \u001b[32m86.8/86.8 kB\u001b[0m \u001b[31m6.6 MB/s\u001b[0m eta \u001b[36m0:00:00\u001b[0m\n",
            "\u001b[?25hDownloading click_didyoumean-0.3.1-py3-none-any.whl (3.6 kB)\n",
            "Downloading click_plugins-1.1.1-py2.py3-none-any.whl (7.5 kB)\n",
            "Downloading click_repl-0.3.0-py3-none-any.whl (10 kB)\n",
            "Downloading kombu-5.5.3-py3-none-any.whl (209 kB)\n",
            "\u001b[2K   \u001b[90m━━━━━━━━━━━━━━━━━━━━━━━━━━━━━━━━━━━━━━━━\u001b[0m \u001b[32m209.9/209.9 kB\u001b[0m \u001b[31m10.6 MB/s\u001b[0m eta \u001b[36m0:00:00\u001b[0m\n",
            "\u001b[?25hDownloading vine-5.1.0-py3-none-any.whl (9.6 kB)\n",
            "Downloading amqp-5.3.1-py3-none-any.whl (50 kB)\n",
            "\u001b[2K   \u001b[90m━━━━━━━━━━━━━━━━━━━━━━━━━━━━━━━━━━━━━━━━\u001b[0m \u001b[32m50.9/50.9 kB\u001b[0m \u001b[31m3.7 MB/s\u001b[0m eta \u001b[36m0:00:00\u001b[0m\n",
            "\u001b[?25hInstalling collected packages: vine, click-plugins, click-didyoumean, billiard, click-repl, amqp, kombu, celery, flower\n",
            "Successfully installed amqp-5.3.1 billiard-4.2.1 celery-5.5.2 click-didyoumean-0.3.1 click-plugins-1.1.1 click-repl-0.3.0 flower-2.0.1 kombu-5.5.3 vine-5.1.0\n"
          ]
        }
      ]
    },
    {
      "cell_type": "code",
      "source": [
        "!pip uninstall -y flwr ray\n",
        "!pip install -U \"flwr[simulation]\" --quiet\n"
      ],
      "metadata": {
        "colab": {
          "base_uri": "https://localhost:8080/"
        },
        "collapsed": true,
        "id": "6Sgepk8g-PcI",
        "outputId": "16ad8966-aad0-40ab-e871-55e77bd332d6"
      },
      "execution_count": null,
      "outputs": [
        {
          "output_type": "stream",
          "name": "stdout",
          "text": [
            "\u001b[33mWARNING: Skipping flwr as it is not installed.\u001b[0m\u001b[33m\n",
            "\u001b[0m\u001b[33mWARNING: Skipping ray as it is not installed.\u001b[0m\u001b[33m\n",
            "\u001b[2K   \u001b[90m━━━━━━━━━━━━━━━━━━━━━━━━━━━━━━━━━━━━━━━━\u001b[0m \u001b[32m66.7/66.7 MB\u001b[0m \u001b[31m8.9 MB/s\u001b[0m eta \u001b[36m0:00:00\u001b[0m\n",
            "\u001b[2K   \u001b[90m━━━━━━━━━━━━━━━━━━━━━━━━━━━━━━━━━━━━━━━━\u001b[0m \u001b[32m4.2/4.2 MB\u001b[0m \u001b[31m58.3 MB/s\u001b[0m eta \u001b[36m0:00:00\u001b[0m\n",
            "\u001b[2K   \u001b[90m━━━━━━━━━━━━━━━━━━━━━━━━━━━━━━━━━━━━━━━━\u001b[0m \u001b[32m294.6/294.6 kB\u001b[0m \u001b[31m18.6 MB/s\u001b[0m eta \u001b[36m0:00:00\u001b[0m\n",
            "\u001b[2K   \u001b[90m━━━━━━━━━━━━━━━━━━━━━━━━━━━━━━━━━━━━━━━━\u001b[0m \u001b[32m2.3/2.3 MB\u001b[0m \u001b[31m56.3 MB/s\u001b[0m eta \u001b[36m0:00:00\u001b[0m\n",
            "\u001b[2K   \u001b[90m━━━━━━━━━━━━━━━━━━━━━━━━━━━━━━━━━━━━━━━━\u001b[0m \u001b[32m236.0/236.0 kB\u001b[0m \u001b[31m16.1 MB/s\u001b[0m eta \u001b[36m0:00:00\u001b[0m\n",
            "\u001b[2K   \u001b[90m━━━━━━━━━━━━━━━━━━━━━━━━━━━━━━━━━━━━━━━━\u001b[0m \u001b[32m47.3/47.3 kB\u001b[0m \u001b[31m3.0 MB/s\u001b[0m eta \u001b[36m0:00:00\u001b[0m\n",
            "\u001b[2K   \u001b[90m━━━━━━━━━━━━━━━━━━━━━━━━━━━━━━━━━━━━━━━━\u001b[0m \u001b[32m540.0/540.0 kB\u001b[0m \u001b[31m26.8 MB/s\u001b[0m eta \u001b[36m0:00:00\u001b[0m\n",
            "\u001b[?25h\u001b[31mERROR: pip's dependency resolver does not currently take into account all the packages that are installed. This behaviour is the source of the following dependency conflicts.\n",
            "ydf 0.11.0 requires protobuf<6.0.0,>=5.29.1, but you have protobuf 4.25.7 which is incompatible.\n",
            "pydrive2 1.21.3 requires cryptography<44, but you have cryptography 44.0.3 which is incompatible.\n",
            "pyopenssl 24.2.1 requires cryptography<44,>=41.0.5, but you have cryptography 44.0.3 which is incompatible.\n",
            "grpcio-status 1.71.0 requires protobuf<6.0dev,>=5.26.1, but you have protobuf 4.25.7 which is incompatible.\u001b[0m\u001b[31m\n",
            "\u001b[0m"
          ]
        }
      ]
    },
    {
      "cell_type": "code",
      "source": [],
      "metadata": {
        "id": "KoO2d3kO4lEc"
      },
      "execution_count": null,
      "outputs": []
    },
    {
      "cell_type": "code",
      "source": [
        "import torch\n",
        "\n",
        "# Set the device\n",
        "device = torch.device(\"cuda\" if torch.cuda.is_available() else \"cpu\")\n",
        "print(f\"Using device: {device}\")"
      ],
      "metadata": {
        "colab": {
          "base_uri": "https://localhost:8080/"
        },
        "id": "FC3cM21UlsHo",
        "outputId": "1e2c2f98-45b9-44c5-c49d-2a2c0bab0944"
      },
      "execution_count": null,
      "outputs": [
        {
          "output_type": "stream",
          "name": "stdout",
          "text": [
            "Using device: cpu\n"
          ]
        }
      ]
    },
    {
      "cell_type": "code",
      "source": [
        "#dataset\n",
        "\n",
        "!unzip /content/N-BAIoT\\ Dataset.zip\n"
      ],
      "metadata": {
        "id": "1-aZhzVUghrS",
        "colab": {
          "base_uri": "https://localhost:8080/"
        },
        "collapsed": true,
        "outputId": "6d2fb671-94d1-4562-f154-0cd25e6da01f"
      },
      "execution_count": null,
      "outputs": [
        {
          "output_type": "stream",
          "name": "stdout",
          "text": [
            "Archive:  /content/N-BAIoT Dataset.zip\n",
            "   creating: N-BAIoT Dataset/\n",
            "  inflating: N-BAIoT Dataset/.DS_Store  \n",
            "  inflating: __MACOSX/N-BAIoT Dataset/._.DS_Store  \n",
            "   creating: N-BAIoT Dataset/benign/\n",
            "   creating: N-BAIoT Dataset/1/\n",
            "   creating: N-BAIoT Dataset/2/\n",
            "  inflating: N-BAIoT Dataset/benign/1.benign.csv  \n",
            "  inflating: __MACOSX/N-BAIoT Dataset/benign/._1.benign.csv  \n",
            "  inflating: N-BAIoT Dataset/benign/2.benign.csv  \n",
            "  inflating: __MACOSX/N-BAIoT Dataset/benign/._2.benign.csv  \n",
            "  inflating: N-BAIoT Dataset/1/1.gafgyt.combo.csv  \n",
            "  inflating: __MACOSX/N-BAIoT Dataset/1/._1.gafgyt.combo.csv  \n",
            "  inflating: N-BAIoT Dataset/1/1.mirai.scan.csv  \n",
            "  inflating: __MACOSX/N-BAIoT Dataset/1/._1.mirai.scan.csv  \n",
            "  inflating: N-BAIoT Dataset/1/.DS_Store  \n",
            "  inflating: __MACOSX/N-BAIoT Dataset/1/._.DS_Store  \n",
            "  inflating: N-BAIoT Dataset/1/1.gafgyt.scan.csv  \n",
            "  inflating: __MACOSX/N-BAIoT Dataset/1/._1.gafgyt.scan.csv  \n",
            "  inflating: N-BAIoT Dataset/1/1.gafgyt.udp.csv  \n",
            "  inflating: __MACOSX/N-BAIoT Dataset/1/._1.gafgyt.udp.csv  \n",
            "  inflating: N-BAIoT Dataset/1/1.gafgyt.tcp.csv  \n",
            "  inflating: __MACOSX/N-BAIoT Dataset/1/._1.gafgyt.tcp.csv  \n",
            "  inflating: N-BAIoT Dataset/1/1.mirai.ack.csv  \n",
            "  inflating: __MACOSX/N-BAIoT Dataset/1/._1.mirai.ack.csv  \n",
            "  inflating: N-BAIoT Dataset/1/1.mirai.udp.csv  \n",
            "  inflating: __MACOSX/N-BAIoT Dataset/1/._1.mirai.udp.csv  \n",
            "  inflating: N-BAIoT Dataset/1/1.mirai.syn.csv  \n",
            "  inflating: __MACOSX/N-BAIoT Dataset/1/._1.mirai.syn.csv  \n",
            "  inflating: N-BAIoT Dataset/1/1.mirai.udpplain.csv  \n",
            "  inflating: __MACOSX/N-BAIoT Dataset/1/._1.mirai.udpplain.csv  \n",
            "  inflating: N-BAIoT Dataset/1/1.gafgyt.junk.csv  \n",
            "  inflating: __MACOSX/N-BAIoT Dataset/1/._1.gafgyt.junk.csv  \n",
            "  inflating: N-BAIoT Dataset/2/2.gafgyt.udp.csv  \n",
            "  inflating: __MACOSX/N-BAIoT Dataset/2/._2.gafgyt.udp.csv  \n",
            "  inflating: N-BAIoT Dataset/2/.DS_Store  \n",
            "  inflating: __MACOSX/N-BAIoT Dataset/2/._.DS_Store  \n",
            "  inflating: N-BAIoT Dataset/2/2.gafgyt.tcp.csv  \n",
            "  inflating: __MACOSX/N-BAIoT Dataset/2/._2.gafgyt.tcp.csv  \n",
            "  inflating: N-BAIoT Dataset/2/2.mirai.scan.csv  \n",
            "  inflating: __MACOSX/N-BAIoT Dataset/2/._2.mirai.scan.csv  \n",
            "  inflating: N-BAIoT Dataset/2/2.gafgyt.junk.csv  \n",
            "  inflating: __MACOSX/N-BAIoT Dataset/2/._2.gafgyt.junk.csv  \n",
            "  inflating: N-BAIoT Dataset/2/2.mirai.udp.csv  \n",
            "  inflating: __MACOSX/N-BAIoT Dataset/2/._2.mirai.udp.csv  \n",
            "  inflating: N-BAIoT Dataset/2/2.gafgyt.scan.csv  \n",
            "  inflating: __MACOSX/N-BAIoT Dataset/2/._2.gafgyt.scan.csv  \n",
            "  inflating: N-BAIoT Dataset/2/2.mirai.ack.csv  \n",
            "  inflating: __MACOSX/N-BAIoT Dataset/2/._2.mirai.ack.csv  \n",
            "  inflating: N-BAIoT Dataset/2/2.gafgyt.combo.csv  \n",
            "  inflating: __MACOSX/N-BAIoT Dataset/2/._2.gafgyt.combo.csv  \n",
            "  inflating: N-BAIoT Dataset/2/2.mirai.syn.csv  \n",
            "  inflating: __MACOSX/N-BAIoT Dataset/2/._2.mirai.syn.csv  \n",
            "  inflating: N-BAIoT Dataset/2/2.mirai.udpplain.csv  \n",
            "  inflating: __MACOSX/N-BAIoT Dataset/2/._2.mirai.udpplain.csv  \n"
          ]
        }
      ]
    },
    {
      "cell_type": "code",
      "source": [
        "import pandas as pd\n",
        "from sklearn.preprocessing import MinMaxScaler, OneHotEncoder\n",
        "\n",
        "def preprocess_data(numeric_df):\n",
        "\n",
        "    for column in numeric_df.columns:\n",
        "        if numeric_df[column].dtype == object:  # Check for string/object type columns\n",
        "            try:\n",
        "                numeric_df[column] = pd.to_numeric(numeric_df[column], errors='coerce')\n",
        "            except ValueError:\n",
        "                print(f\"Column '{column}' contains non-numeric values. Applying One-Hot Encoding.\")\n",
        "\n",
        "            if numeric_df[column].dtype == object or numeric_df[column].isnull().any():\n",
        "               # One-Hot Encoding for categorical columns\n",
        "                encoder = OneHotEncoder(sparse_output=False, handle_unknown='ignore')\n",
        "                # Create encoder instance\n",
        "\n",
        "                valid_rows = numeric_df[column].apply(lambda x: pd.api.types.is_number(x) or isinstance(x, str))\n",
        "                numeric_df = numeric_df[valid_rows]  # Keep only valid rows\n",
        "\n",
        "\n",
        "                encoded_data = encoder.fit_transform(numeric_df[[column]])\n",
        "                encoded_df = pd.DataFrame(encoded_data, columns=[f\"{column}_{val}\" for val in encoder.categories_[0]])\n",
        "                numeric_df = pd.concat([numeric_df, encoded_df], axis=1)\n",
        "                numeric_df.drop(column, axis=1, inplace=True) # remove original column\n",
        "\n",
        "    # Scale the Data\n",
        "    scaler = MinMaxScaler()\n",
        "    scaled_data = scaler.fit_transform(numeric_df.values)\n",
        "\n",
        "    return scaled_data, scaler\n",
        "\n"
      ],
      "metadata": {
        "id": "gca3c3Djx7lM"
      },
      "execution_count": null,
      "outputs": []
    },
    {
      "cell_type": "code",
      "source": [
        "import torch\n",
        "import torch.nn as nn\n",
        "import torch.optim as optim\n",
        "from torch.utils.data import DataLoader, TensorDataset\n",
        "\n",
        "\n",
        "class Autoencoder(nn.Module):\n",
        "    def __init__(self, input_dim):\n",
        "        super(Autoencoder, self).__init__()\n",
        "\n",
        "        # Encoder\n",
        "        self.encoder = nn.Sequential(\n",
        "            #nn.Linear(input_dim, 512),\n",
        "            #nn.ReLU(),\n",
        "            #nn.BatchNorm1d(512),\n",
        "            nn.Linear(input_dim, 256),\n",
        "            nn.ReLU(),\n",
        "            nn.BatchNorm1d(256),\n",
        "            nn.Linear(256, 128),\n",
        "            nn.ReLU(),\n",
        "            nn.BatchNorm1d(128)\n",
        "        )\n",
        "\n",
        "        # Decoder\n",
        "        self.decoder = nn.Sequential(\n",
        "            nn.Linear(128, 256),\n",
        "            nn.ReLU(),\n",
        "            nn.BatchNorm1d(256),\n",
        "            nn.Linear(256, input_dim),\n",
        "            #nn.ReLU(),\n",
        "            #nn.BatchNorm1d(512),\n",
        "            #nn.Linear(512, input_dim),\n",
        "            nn.Tanh()  # Final activation to match normalized input range\n",
        "        )\n",
        "\n",
        "    def forward(self, x):\n",
        "        encoded = self.encoder(x)\n",
        "        decoded = self.decoder(encoded)\n",
        "        return decoded\n"
      ],
      "metadata": {
        "id": "3BFAh4yZ085Z"
      },
      "execution_count": null,
      "outputs": []
    },
    {
      "cell_type": "code",
      "source": [
        "import flwr as fl\n",
        "from collections import OrderedDict\n",
        "from typing import Dict, Tuple\n",
        "import torch\n",
        "\n",
        "class AutoencoderClient(fl.client.NumPyClient):\n",
        "    def __init__(self, model, trainloader, testloader, device):\n",
        "        self.model = model\n",
        "        self.trainloader = trainloader\n",
        "        self.testloader = testloader\n",
        "        self.device = device\n",
        "\n",
        "    def get_parameters(self, config):\n",
        "        # Return model parameters as a list of NumPy arrays\n",
        "        return [val.cpu().numpy() for _, val in self.model.state_dict().items()]\n",
        "\n",
        "    def set_parameters(self, parameters):\n",
        "        # Set model parameters from a list of NumPy arrays\n",
        "        params_dict = zip(self.model.state_dict().keys(), parameters)\n",
        "        state_dict = OrderedDict({k: torch.tensor(v) for k, v in params_dict})\n",
        "        self.model.load_state_dict(state_dict, strict=True)\n",
        "\n",
        "    def fit(self, parameters, config):\n",
        "        # Set model parameters, train locally, and return updated parameters\n",
        "        self.set_parameters(parameters)\n",
        "        self.model.train()\n",
        "        self.model.to(self.device)\n",
        "        criterion = torch.nn.MSELoss()\n",
        "        optimizer = torch.optim.Adam(self.model.parameters())\n",
        "\n",
        "        epochs = config[\"epochs\"]\n",
        "        for _ in range(epochs):\n",
        "            for batch_idx, (data, _) in enumerate(self.trainloader):\n",
        "                data = data.to(self.device)\n",
        "                optimizer.zero_grad()\n",
        "                outputs = self.model(data)\n",
        "                loss = criterion(outputs, data)\n",
        "                loss.backward()\n",
        "                optimizer.step()\n",
        "\n",
        "        return self.get_parameters({}), len(self.trainloader.dataset), {}\n",
        "\n",
        "    def evaluate(self, parameters, config):\n",
        "        # Set model parameters, evaluate locally, and return loss and metrics\n",
        "        self.set_parameters(parameters)\n",
        "        self.model.eval()\n",
        "        self.model.to(self.device)\n",
        "        criterion = torch.nn.MSELoss()\n",
        "        total_loss = 0.0\n",
        "\n",
        "        with torch.no_grad():\n",
        "            for data, _ in self.testloader:\n",
        "                data = data.to(self.device)\n",
        "                outputs = self.model(data)\n",
        "                loss = criterion(outputs, data)\n",
        "                total_loss += loss.item()\n",
        "\n",
        "        return total_loss / len(self.testloader), len(self.testloader.dataset), {\"loss\": total_loss / len(self.testloader)}"
      ],
      "metadata": {
        "id": "_vgk3PYl31vF"
      },
      "execution_count": null,
      "outputs": []
    },
    {
      "cell_type": "markdown",
      "source": [],
      "metadata": {
        "id": "aMC1lnz05L9N"
      }
    },
    {
      "cell_type": "code",
      "source": [
        "import numpy as np\n",
        "from sklearn.model_selection import train_test_split\n",
        "import torch\n",
        "from torch.utils.data import DataLoader, TensorDataset\n",
        "\n",
        "\n",
        "def load_client_data(client_data, client_loaders):\n",
        "  train_df, test_df = train_test_split(client_data, test_size=0.2, random_state=42)\n",
        "  train_data_t = torch.tensor(train_df, dtype=torch.float32)\n",
        "  test_data_t = torch.tensor(test_df, dtype=torch.float32)\n",
        "\n",
        "  train_dataset = TensorDataset(train_data_t, torch.zeros_like(train_data_t))\n",
        "  test_dataset = TensorDataset(test_data_t, torch.zeros_like(test_data_t))\n",
        "\n",
        "  trainloader = DataLoader(train_dataset, batch_size=32, shuffle=True)\n",
        "  testloader = DataLoader(test_dataset, batch_size=32)\n",
        "  client_loaders.append((trainloader, testloader))\n",
        "  return client_loaders\n",
        "\n",
        "\n",
        "\n",
        "df_1 = pd.read_csv(\"/content/N-BAIoT Dataset/benign/1.benign.csv\")\n",
        "df_2 = pd.read_csv(\"/content/N-BAIoT Dataset/benign/2.benign.csv\")\n",
        "\n",
        "data_1, scaler_1 = preprocess_data(df_1)\n",
        "data_1 = np.nan_to_num(data_1, nan=0.0, posinf=0.0, neginf=0.0)\n",
        "\n",
        "data_2, scaler_2 = preprocess_data(df_2)\n",
        "data_2 = np.nan_to_num(data_2, nan=0.0, posinf=0.0, neginf=0.0)\n",
        "\n",
        "client_loaders = []\n",
        "client_loaders = load_client_data(data_1, client_loaders)\n",
        "client_loaders = load_client_data(data_2, client_loaders)\n",
        "\n"
      ],
      "metadata": {
        "id": "lA0kaidb5xJ-"
      },
      "execution_count": null,
      "outputs": []
    },
    {
      "cell_type": "code",
      "source": [
        "def client_fn(cid: str) -> fl.client.NumPyClient:\n",
        "    \"\"\"Create a Flower client with its own data partition.\"\"\"\n",
        "    # Get the data loaders for this client\n",
        "    trainloader, testloader = client_loaders[int(cid)]\n",
        "\n",
        "    # Create a new Autoencoder model for each client\n",
        "    input_dim = trainloader.dataset[0][0].shape[0]\n",
        "    model = Autoencoder(input_dim)\n",
        "\n",
        "    # Use CPU for simplicity in this example\n",
        "    device = torch.device(\"cpu\")\n",
        "    #device = torch.device(\"cuda\" if torch.cuda.is_available() else \"cpu\")\n",
        "\n",
        "    print(f\"Client {cid}: Using device {device}\")\n",
        "    # Create and return the client\n",
        "    return AutoencoderClient(model, trainloader, testloader, device)"
      ],
      "metadata": {
        "id": "lSZttskR5WDa"
      },
      "execution_count": null,
      "outputs": []
    },
    {
      "cell_type": "code",
      "source": [
        "\"\"\"This is a custom strategy that behaves exactly like\n",
        "    FedAvg with the difference of storing of the state of\n",
        "    the global model to disk after each round.\n",
        "    \"\"\"\n",
        "\n",
        "from logging import INFO\n",
        "import pickle\n",
        "from pathlib import Path\n",
        "from flwr.common.logger import log\n",
        "from flwr.common import parameters_to_ndarrays\n",
        "\n",
        "class FedAvgWithModelSaving(fl.server.strategy.FedAvg):\n",
        "\n",
        "    def __init__(self, save_path: str, *args, **kwargs):\n",
        "        self.save_path = Path(save_path)\n",
        "        # Create directory if needed\n",
        "        self.save_path.mkdir(exist_ok=True, parents=True)\n",
        "        super().__init__(*args, **kwargs)\n",
        "\n",
        "    def _save_global_model(self, server_round: int, parameters):\n",
        "\n",
        "        # convert parameters to list of NumPy arrays\n",
        "        # this will make things easy if you want to load them into a\n",
        "        # PyTorch or TensorFlow model later\n",
        "        ndarrays = parameters_to_ndarrays(parameters)\n",
        "        data = {'globa_parameters': ndarrays}\n",
        "        filename = str(self.save_path/f\"parameters_round_{server_round}.pkl\")\n",
        "        with open(filename, 'wb') as h:\n",
        "            pickle.dump(data, h, protocol=pickle.HIGHEST_PROTOCOL)\n",
        "        log(INFO, f\"Checkpoint saved to: {filename}\")\n",
        "\n",
        "    def evaluate(self, server_round: int, parameters):\n",
        "        \"\"\"Evaluate model parameters using an evaluation function.\"\"\"\n",
        "        # save the parameters to disk using a custom method\n",
        "        self._save_global_model(server_round, parameters)\n",
        "\n",
        "        # call the parent method so evaluation is performed as\n",
        "        # FedAvg normally does.\n",
        "        return super().evaluate(server_round, parameters)"
      ],
      "metadata": {
        "id": "SexL3ZIbMUUr"
      },
      "execution_count": null,
      "outputs": []
    },
    {
      "cell_type": "code",
      "source": [
        "# Run Simulation\n",
        "\n",
        "s_strategy = FedAvgWithModelSaving(\n",
        "    save_path='my_checkpoints',\n",
        "    # These functions are now passed directly to your custom strategy's constructor\n",
        "    on_fit_config_fn=lambda server_round: {\"epochs\": 5},\n",
        "    on_evaluate_config_fn=lambda server_round: {\"epochs\": 5},\n",
        ")\n",
        "\n",
        "# Start the simulation\n",
        "fl.simulation.start_simulation(\n",
        "    client_fn=client_fn,\n",
        "    num_clients=2,\n",
        "    config=fl.server.ServerConfig(num_rounds=2),  # Number of federated learning rounds\n",
        "    # strategy=fl.server.strategy.FedAvg() # Default strategy is FedAvg\n",
        "    strategy=s_strategy,\n",
        "  )\n"
      ],
      "metadata": {
        "colab": {
          "base_uri": "https://localhost:8080/"
        },
        "collapsed": true,
        "id": "RoG8MqJl7ZJL",
        "outputId": "56db0953-57bc-4e0d-bedf-753f3a8f7363"
      },
      "execution_count": null,
      "outputs": [
        {
          "output_type": "stream",
          "name": "stderr",
          "text": [
            "\u001b[93mWARNING \u001b[0m:   DEPRECATED FEATURE: flwr.simulation.start_simulation() is deprecated.\n",
            "\tInstead, use the `flwr run` CLI command to start a local simulation in your Flower app, as shown for example below:\n",
            "\n",
            "\t\t$ flwr new  # Create a new Flower app from a template\n",
            "\n",
            "\t\t$ flwr run  # Run the Flower app in Simulation Mode\n",
            "\n",
            "\tUsing `start_simulation()` is deprecated.\n",
            "\n",
            "            This is a deprecated feature. It will be removed\n",
            "            entirely in future versions of Flower.\n",
            "        \n",
            "\u001b[92mINFO \u001b[0m:      Starting Flower simulation, config: num_rounds=4, no round_timeout\n",
            "2025-05-19 13:45:16,580\tINFO worker.py:1771 -- Started a local Ray instance.\n",
            "\u001b[92mINFO \u001b[0m:      Flower VCE: Ray initialized with resources: {'CPU': 2.0, 'node:__internal_head__': 1.0, 'node:172.28.0.12': 1.0, 'memory': 7884801639.0, 'object_store_memory': 3942400819.0}\n",
            "\u001b[92mINFO \u001b[0m:      Optimize your simulation with Flower VCE: https://flower.ai/docs/framework/how-to-run-simulations.html\n",
            "\u001b[92mINFO \u001b[0m:      No `client_resources` specified. Using minimal resources for clients.\n",
            "\u001b[92mINFO \u001b[0m:      Flower VCE: Resources for each Virtual Client: {'num_cpus': 1, 'num_gpus': 0.0}\n",
            "\u001b[92mINFO \u001b[0m:      Flower VCE: Creating VirtualClientEngineActorPool with 2 actors\n",
            "\u001b[92mINFO \u001b[0m:      [INIT]\n",
            "\u001b[92mINFO \u001b[0m:      Requesting initial parameters from one random client\n",
            "\u001b[36m(pid=7642)\u001b[0m 2025-05-19 13:45:22.066634: E external/local_xla/xla/stream_executor/cuda/cuda_fft.cc:477] Unable to register cuFFT factory: Attempting to register factory for plugin cuFFT when one has already been registered\n",
            "\u001b[36m(pid=7642)\u001b[0m WARNING: All log messages before absl::InitializeLog() is called are written to STDERR\n",
            "\u001b[36m(pid=7642)\u001b[0m E0000 00:00:1747662322.116464    7642 cuda_dnn.cc:8310] Unable to register cuDNN factory: Attempting to register factory for plugin cuDNN when one has already been registered\n",
            "\u001b[36m(pid=7642)\u001b[0m E0000 00:00:1747662322.129930    7642 cuda_blas.cc:1418] Unable to register cuBLAS factory: Attempting to register factory for plugin cuBLAS when one has already been registered\n",
            "\u001b[36m(ClientAppActor pid=7642)\u001b[0m \u001b[93mWARNING \u001b[0m:   DEPRECATED FEATURE: `client_fn` now expects a signature `def client_fn(context: Context)`.The provided `client_fn` has signature: {'cid': <Parameter \"cid: str\">}. You can import the `Context` like this: `from flwr.common import Context`\n",
            "\u001b[36m(ClientAppActor pid=7642)\u001b[0m \n",
            "\u001b[36m(ClientAppActor pid=7642)\u001b[0m             This is a deprecated feature. It will be removed\n",
            "\u001b[36m(ClientAppActor pid=7642)\u001b[0m             entirely in future versions of Flower.\n",
            "\u001b[36m(ClientAppActor pid=7642)\u001b[0m         \n",
            "\u001b[36m(ClientAppActor pid=7642)\u001b[0m \u001b[93mWARNING \u001b[0m:   Deprecation Warning: The `client_fn` function must return an instance of `Client`, but an instance of `NumpyClient` was returned. Please use `NumPyClient.to_client()` method to convert it to `Client`.\n",
            "\u001b[36m(pid=7641)\u001b[0m 2025-05-19 13:45:22.167462: E external/local_xla/xla/stream_executor/cuda/cuda_fft.cc:477] Unable to register cuFFT factory: Attempting to register factory for plugin cuFFT when one has already been registered\n",
            "\u001b[36m(pid=7641)\u001b[0m WARNING: All log messages before absl::InitializeLog() is called are written to STDERR\n",
            "\u001b[36m(pid=7641)\u001b[0m E0000 00:00:1747662322.226573    7641 cuda_dnn.cc:8310] Unable to register cuDNN factory: Attempting to register factory for plugin cuDNN when one has already been registered\n",
            "\u001b[36m(pid=7641)\u001b[0m E0000 00:00:1747662322.238895    7641 cuda_blas.cc:1418] Unable to register cuBLAS factory: Attempting to register factory for plugin cuBLAS when one has already been registered\n",
            "\u001b[92mINFO \u001b[0m:      Received initial parameters from one random client\n",
            "\u001b[92mINFO \u001b[0m:      Starting evaluation of initial global parameters\n",
            "\u001b[92mINFO \u001b[0m:      Checkpoint saved to: my_checkpoints/parameters_round_0.pkl\n",
            "\u001b[92mINFO \u001b[0m:      Evaluation returned no results (`None`)\n",
            "\u001b[92mINFO \u001b[0m:      \n",
            "\u001b[92mINFO \u001b[0m:      [ROUND 1]\n",
            "\u001b[92mINFO \u001b[0m:      configure_fit: strategy sampled 2 clients (out of 2)\n"
          ]
        },
        {
          "output_type": "stream",
          "name": "stdout",
          "text": [
            "\u001b[36m(ClientAppActor pid=7642)\u001b[0m Client 0: Using device cpu\n"
          ]
        },
        {
          "output_type": "stream",
          "name": "stderr",
          "text": [
            "\u001b[36m(ClientAppActor pid=7642)\u001b[0m \u001b[93mWARNING \u001b[0m:   DEPRECATED FEATURE: `client_fn` now expects a signature `def client_fn(context: Context)`.The provided `client_fn` has signature: {'cid': <Parameter \"cid: str\">}. You can import the `Context` like this: `from flwr.common import Context`\n",
            "\u001b[36m(ClientAppActor pid=7642)\u001b[0m \n",
            "\u001b[36m(ClientAppActor pid=7642)\u001b[0m             This is a deprecated feature. It will be removed\n",
            "\u001b[36m(ClientAppActor pid=7642)\u001b[0m             entirely in future versions of Flower.\n",
            "\u001b[36m(ClientAppActor pid=7642)\u001b[0m         \n",
            "\u001b[36m(ClientAppActor pid=7642)\u001b[0m \u001b[93mWARNING \u001b[0m:   Deprecation Warning: The `client_fn` function must return an instance of `Client`, but an instance of `NumpyClient` was returned. Please use `NumPyClient.to_client()` method to convert it to `Client`.\n"
          ]
        },
        {
          "output_type": "stream",
          "name": "stdout",
          "text": [
            "\u001b[36m(ClientAppActor pid=7642)\u001b[0m Client 1: Using device cpu\n",
            "\u001b[36m(ClientAppActor pid=7641)\u001b[0m Client 0: Using device cpu\n"
          ]
        },
        {
          "output_type": "stream",
          "name": "stderr",
          "text": [
            "\u001b[36m(ClientAppActor pid=7641)\u001b[0m \n",
            "\u001b[36m(ClientAppActor pid=7641)\u001b[0m         \n",
            "\u001b[36m(ClientAppActor pid=7641)\u001b[0m \u001b[93mWARNING \u001b[0m:   DEPRECATED FEATURE: `client_fn` now expects a signature `def client_fn(context: Context)`.The provided `client_fn` has signature: {'cid': <Parameter \"cid: str\">}. You can import the `Context` like this: `from flwr.common import Context`\n",
            "\u001b[36m(ClientAppActor pid=7641)\u001b[0m             This is a deprecated feature. It will be removed\n",
            "\u001b[36m(ClientAppActor pid=7641)\u001b[0m             entirely in future versions of Flower.\n",
            "\u001b[36m(ClientAppActor pid=7641)\u001b[0m \u001b[93mWARNING \u001b[0m:   Deprecation Warning: The `client_fn` function must return an instance of `Client`, but an instance of `NumpyClient` was returned. Please use `NumPyClient.to_client()` method to convert it to `Client`.\n",
            "\u001b[92mINFO \u001b[0m:      aggregate_fit: received 2 results and 0 failures\n",
            "\u001b[93mWARNING \u001b[0m:   No fit_metrics_aggregation_fn provided\n",
            "\u001b[92mINFO \u001b[0m:      Checkpoint saved to: my_checkpoints/parameters_round_1.pkl\n",
            "\u001b[92mINFO \u001b[0m:      configure_evaluate: strategy sampled 2 clients (out of 2)\n"
          ]
        },
        {
          "output_type": "stream",
          "name": "stdout",
          "text": [
            "\u001b[36m(ClientAppActor pid=7641)\u001b[0m Client 0: Using device cpu\n"
          ]
        },
        {
          "output_type": "stream",
          "name": "stderr",
          "text": [
            "\u001b[36m(ClientAppActor pid=7641)\u001b[0m \u001b[93mWARNING \u001b[0m:   DEPRECATED FEATURE: `client_fn` now expects a signature `def client_fn(context: Context)`.The provided `client_fn` has signature: {'cid': <Parameter \"cid: str\">}. You can import the `Context` like this: `from flwr.common import Context`\n",
            "\u001b[36m(ClientAppActor pid=7641)\u001b[0m \n",
            "\u001b[36m(ClientAppActor pid=7641)\u001b[0m             This is a deprecated feature. It will be removed\n",
            "\u001b[36m(ClientAppActor pid=7641)\u001b[0m             entirely in future versions of Flower.\n",
            "\u001b[36m(ClientAppActor pid=7641)\u001b[0m         \n",
            "\u001b[36m(ClientAppActor pid=7641)\u001b[0m \u001b[93mWARNING \u001b[0m:   Deprecation Warning: The `client_fn` function must return an instance of `Client`, but an instance of `NumpyClient` was returned. Please use `NumPyClient.to_client()` method to convert it to `Client`.\n",
            "\u001b[36m(ClientAppActor pid=7642)\u001b[0m \n",
            "\u001b[36m(ClientAppActor pid=7642)\u001b[0m         \n",
            "\u001b[92mINFO \u001b[0m:      aggregate_evaluate: received 2 results and 0 failures\n",
            "\u001b[93mWARNING \u001b[0m:   No evaluate_metrics_aggregation_fn provided\n",
            "\u001b[92mINFO \u001b[0m:      \n",
            "\u001b[92mINFO \u001b[0m:      [ROUND 2]\n",
            "\u001b[92mINFO \u001b[0m:      configure_fit: strategy sampled 2 clients (out of 2)\n",
            "\u001b[36m(ClientAppActor pid=7641)\u001b[0m \n",
            "\u001b[36m(ClientAppActor pid=7641)\u001b[0m         \n",
            "\u001b[36m(ClientAppActor pid=7642)\u001b[0m \n",
            "\u001b[36m(ClientAppActor pid=7642)\u001b[0m         \n",
            "\u001b[92mINFO \u001b[0m:      aggregate_fit: received 2 results and 0 failures\n",
            "\u001b[92mINFO \u001b[0m:      Checkpoint saved to: my_checkpoints/parameters_round_2.pkl\n",
            "\u001b[92mINFO \u001b[0m:      configure_evaluate: strategy sampled 2 clients (out of 2)\n",
            "\u001b[36m(ClientAppActor pid=7642)\u001b[0m \n",
            "\u001b[36m(ClientAppActor pid=7642)\u001b[0m         \n",
            "\u001b[36m(ClientAppActor pid=7642)\u001b[0m \u001b[93mWARNING \u001b[0m:   DEPRECATED FEATURE: `client_fn` now expects a signature `def client_fn(context: Context)`.The provided `client_fn` has signature: {'cid': <Parameter \"cid: str\">}. You can import the `Context` like this: `from flwr.common import Context`\u001b[32m [repeated 4x across cluster]\u001b[0m\n",
            "\u001b[36m(ClientAppActor pid=7642)\u001b[0m             This is a deprecated feature. It will be removed\u001b[32m [repeated 4x across cluster]\u001b[0m\n",
            "\u001b[36m(ClientAppActor pid=7642)\u001b[0m             entirely in future versions of Flower.\u001b[32m [repeated 4x across cluster]\u001b[0m\n",
            "\u001b[36m(ClientAppActor pid=7642)\u001b[0m \u001b[93mWARNING \u001b[0m:   Deprecation Warning: The `client_fn` function must return an instance of `Client`, but an instance of `NumpyClient` was returned. Please use `NumPyClient.to_client()` method to convert it to `Client`.\u001b[32m [repeated 4x across cluster]\u001b[0m\n",
            "\u001b[36m(ClientAppActor pid=7641)\u001b[0m \n",
            "\u001b[36m(ClientAppActor pid=7641)\u001b[0m         \n"
          ]
        },
        {
          "output_type": "stream",
          "name": "stdout",
          "text": [
            "\u001b[36m(ClientAppActor pid=7642)\u001b[0m Client 0: Using device cpu\u001b[32m [repeated 4x across cluster]\u001b[0m\n"
          ]
        },
        {
          "output_type": "stream",
          "name": "stderr",
          "text": [
            "\u001b[92mINFO \u001b[0m:      aggregate_evaluate: received 2 results and 0 failures\n",
            "\u001b[92mINFO \u001b[0m:      \n",
            "\u001b[92mINFO \u001b[0m:      [ROUND 3]\n",
            "\u001b[92mINFO \u001b[0m:      configure_fit: strategy sampled 2 clients (out of 2)\n",
            "\u001b[36m(ClientAppActor pid=7642)\u001b[0m \n",
            "\u001b[36m(ClientAppActor pid=7642)\u001b[0m         \n",
            "\u001b[36m(ClientAppActor pid=7641)\u001b[0m \n",
            "\u001b[36m(ClientAppActor pid=7641)\u001b[0m         \n",
            "\u001b[92mINFO \u001b[0m:      aggregate_fit: received 2 results and 0 failures\n",
            "\u001b[92mINFO \u001b[0m:      Checkpoint saved to: my_checkpoints/parameters_round_3.pkl\n",
            "\u001b[92mINFO \u001b[0m:      configure_evaluate: strategy sampled 2 clients (out of 2)\n",
            "\u001b[36m(ClientAppActor pid=7642)\u001b[0m \n",
            "\u001b[36m(ClientAppActor pid=7642)\u001b[0m         \n",
            "\u001b[36m(ClientAppActor pid=7642)\u001b[0m \u001b[93mWARNING \u001b[0m:   DEPRECATED FEATURE: `client_fn` now expects a signature `def client_fn(context: Context)`.The provided `client_fn` has signature: {'cid': <Parameter \"cid: str\">}. You can import the `Context` like this: `from flwr.common import Context`\u001b[32m [repeated 4x across cluster]\u001b[0m\n",
            "\u001b[36m(ClientAppActor pid=7642)\u001b[0m             This is a deprecated feature. It will be removed\u001b[32m [repeated 4x across cluster]\u001b[0m\n",
            "\u001b[36m(ClientAppActor pid=7642)\u001b[0m             entirely in future versions of Flower.\u001b[32m [repeated 4x across cluster]\u001b[0m\n",
            "\u001b[36m(ClientAppActor pid=7642)\u001b[0m \u001b[93mWARNING \u001b[0m:   Deprecation Warning: The `client_fn` function must return an instance of `Client`, but an instance of `NumpyClient` was returned. Please use `NumPyClient.to_client()` method to convert it to `Client`.\u001b[32m [repeated 4x across cluster]\u001b[0m\n",
            "\u001b[36m(ClientAppActor pid=7641)\u001b[0m \n",
            "\u001b[36m(ClientAppActor pid=7641)\u001b[0m         \n"
          ]
        },
        {
          "output_type": "stream",
          "name": "stdout",
          "text": [
            "\u001b[36m(ClientAppActor pid=7642)\u001b[0m Client 0: Using device cpu\u001b[32m [repeated 4x across cluster]\u001b[0m\n"
          ]
        },
        {
          "output_type": "stream",
          "name": "stderr",
          "text": [
            "\u001b[92mINFO \u001b[0m:      aggregate_evaluate: received 2 results and 0 failures\n",
            "\u001b[92mINFO \u001b[0m:      \n",
            "\u001b[92mINFO \u001b[0m:      [ROUND 4]\n",
            "\u001b[92mINFO \u001b[0m:      configure_fit: strategy sampled 2 clients (out of 2)\n",
            "\u001b[36m(ClientAppActor pid=7641)\u001b[0m \n",
            "\u001b[36m(ClientAppActor pid=7641)\u001b[0m         \n",
            "\u001b[36m(ClientAppActor pid=7642)\u001b[0m \n",
            "\u001b[36m(ClientAppActor pid=7642)\u001b[0m         \n",
            "\u001b[92mINFO \u001b[0m:      aggregate_fit: received 2 results and 0 failures\n",
            "\u001b[92mINFO \u001b[0m:      Checkpoint saved to: my_checkpoints/parameters_round_4.pkl\n",
            "\u001b[92mINFO \u001b[0m:      configure_evaluate: strategy sampled 2 clients (out of 2)\n",
            "\u001b[36m(ClientAppActor pid=7642)\u001b[0m \n",
            "\u001b[36m(ClientAppActor pid=7642)\u001b[0m         \n",
            "\u001b[36m(ClientAppActor pid=7642)\u001b[0m \u001b[93mWARNING \u001b[0m:   DEPRECATED FEATURE: `client_fn` now expects a signature `def client_fn(context: Context)`.The provided `client_fn` has signature: {'cid': <Parameter \"cid: str\">}. You can import the `Context` like this: `from flwr.common import Context`\u001b[32m [repeated 4x across cluster]\u001b[0m\n",
            "\u001b[36m(ClientAppActor pid=7642)\u001b[0m             This is a deprecated feature. It will be removed\u001b[32m [repeated 4x across cluster]\u001b[0m\n",
            "\u001b[36m(ClientAppActor pid=7642)\u001b[0m             entirely in future versions of Flower.\u001b[32m [repeated 4x across cluster]\u001b[0m\n",
            "\u001b[36m(ClientAppActor pid=7642)\u001b[0m \u001b[93mWARNING \u001b[0m:   Deprecation Warning: The `client_fn` function must return an instance of `Client`, but an instance of `NumpyClient` was returned. Please use `NumPyClient.to_client()` method to convert it to `Client`.\u001b[32m [repeated 4x across cluster]\u001b[0m\n",
            "\u001b[36m(ClientAppActor pid=7641)\u001b[0m \n",
            "\u001b[36m(ClientAppActor pid=7641)\u001b[0m         \n"
          ]
        },
        {
          "output_type": "stream",
          "name": "stdout",
          "text": [
            "\u001b[36m(ClientAppActor pid=7642)\u001b[0m Client 1: Using device cpu\u001b[32m [repeated 4x across cluster]\u001b[0m\n"
          ]
        },
        {
          "output_type": "stream",
          "name": "stderr",
          "text": [
            "\u001b[92mINFO \u001b[0m:      aggregate_evaluate: received 2 results and 0 failures\n",
            "\u001b[92mINFO \u001b[0m:      \n",
            "\u001b[92mINFO \u001b[0m:      [SUMMARY]\n",
            "\u001b[92mINFO \u001b[0m:      Run finished 4 round(s) in 155.29s\n",
            "\u001b[92mINFO \u001b[0m:      \tHistory (loss, distributed):\n",
            "\u001b[92mINFO \u001b[0m:      \t\tround 1: 0.006671192784447174\n",
            "\u001b[92mINFO \u001b[0m:      \t\tround 2: 0.003644005338117049\n",
            "\u001b[92mINFO \u001b[0m:      \t\tround 3: 0.005800796566598579\n",
            "\u001b[92mINFO \u001b[0m:      \t\tround 4: 0.004408530003833113\n",
            "\u001b[92mINFO \u001b[0m:      \n"
          ]
        },
        {
          "output_type": "execute_result",
          "data": {
            "text/plain": [
              "History (loss, distributed):\n",
              "\tround 1: 0.006671192784447174\n",
              "\tround 2: 0.003644005338117049\n",
              "\tround 3: 0.005800796566598579\n",
              "\tround 4: 0.004408530003833113"
            ]
          },
          "metadata": {},
          "execution_count": 15
        }
      ]
    },
    {
      "cell_type": "code",
      "source": [
        "#Calculate the threshold based on reconstruction errors on the training benign data.\n",
        "\n",
        "import numpy as np\n",
        "import pandas as pd\n",
        "from sklearn.metrics import confusion_matrix, precision_score, recall_score, f1_score, accuracy_score\n",
        "import torch\n",
        "import pickle\n",
        "from collections import OrderedDict\n",
        "import torch.nn as nn\n",
        "\n",
        "# --- Load the trained model ---\n",
        "\n",
        "checkpoint_path = 'my_checkpoints/parameters_round_2.pkl' # Adjust if needed\n",
        "\n",
        "# Load the checkpoint data\n",
        "with open(checkpoint_path, 'rb') as h:\n",
        "    checkpoint_data = pickle.load(h)\n",
        "\n",
        "# Extract the global parameters\n",
        "global_parameters_ndarrays = checkpoint_data['globa_parameters']\n",
        "\n",
        "# Initialize a new Autoencoder model\n",
        "input_dim = data_1.shape[1] # Use the dimension from the training data\n",
        "\n",
        "autoencoder_inference = Autoencoder(input_dim)\n",
        "\n",
        "# Create OrderedDict to load state_dict\n",
        "temp_model = Autoencoder(input_dim) # Create a temporary model to get state_dict keys\n",
        "state_dict_keys = list(temp_model.state_dict().keys())\n",
        "loaded_state_dict = OrderedDict(zip(state_dict_keys, [torch.tensor(v) for v in global_parameters_ndarrays]))\n",
        "\n",
        "# Load the state dictionary\n",
        "autoencoder_inference.load_state_dict(loaded_state_dict)\n",
        "autoencoder_inference.eval() # Set model to evaluation mode\n",
        "\n",
        "\n",
        "# --- Calculate Reconstruction Errors on Benign Training Data to Determine Threshold ---\n",
        "\n",
        "benign_training_errors = []\n",
        "criterion = nn.MSELoss() # Use standard MSELoss for calculating error per data point\n",
        "\n",
        "# Access the original benign training data used for client 0 and client 1\n",
        "all_benign_training_data = torch.cat((torch.tensor(data_1, dtype=torch.float32), torch.tensor(data_2, dtype=torch.float32)), dim=0)\n",
        "\n",
        "\n",
        "with torch.no_grad():\n",
        "    for i in range(all_benign_training_data.shape[0]):\n",
        "        data_point = all_benign_training_data[i].unsqueeze(0)\n",
        "        output = autoencoder_inference(data_point)\n",
        "        loss = criterion(output, data_point)\n",
        "        benign_training_errors.append(loss.item())\n",
        "\n",
        "# Calculate threshold based on benign training errors\n",
        "mean_error = np.mean(benign_training_errors)\n",
        "std_error = np.std(benign_training_errors)\n",
        "\n",
        "# Example threshold setting: Mean + 2 standard deviations\n",
        "threshold = mean_error + 2 * std_error\n",
        "\n",
        "\n",
        "print(f\"Calculated threshold based on benign training data: {threshold:.4f}\")\n"
      ],
      "metadata": {
        "colab": {
          "base_uri": "https://localhost:8080/"
        },
        "id": "GlVMvNjbTATN",
        "outputId": "7fc4e5aa-047b-4b52-d77d-037f2809affe"
      },
      "execution_count": null,
      "outputs": [
        {
          "output_type": "stream",
          "name": "stdout",
          "text": [
            "Calculated threshold based on benign training data: 0.0154\n"
          ]
        }
      ]
    },
    {
      "cell_type": "code",
      "source": [
        "import numpy as np\n",
        "import pandas as pd\n",
        "from sklearn.metrics import confusion_matrix, precision_score, recall_score, f1_score, accuracy_score\n",
        "\n",
        "\n",
        "#Merge benign files\n",
        "\n",
        "benign_file_1 = \"/content/N-BAIoT Dataset/benign/1.benign.csv\"\n",
        "benign_file_2 = \"/content/N-BAIoT Dataset/benign/2.benign.csv\"\n",
        "\n",
        "# Read each CSV file into a pandas DataFrame\n",
        "df_benign_1 = pd.read_csv(benign_file_1)\n",
        "df_benign_2 = pd.read_csv(benign_file_2)\n",
        "\n",
        "# Merge the two DataFrames row-wise\n",
        "# The axis=0 argument specifies concatenation along the rows\n",
        "df_benign = pd.concat([df_benign_1, df_benign_2], ignore_index=True)\n",
        "\n",
        "data_benign, _ = preprocess_data(df_benign)\n",
        "data_benign = np.nan_to_num(data_benign, nan=0.0, posinf=0.0, neginf=0.0)\n",
        "data_benign_t = torch.tensor(data_benign, dtype=torch.float32)\n",
        "labels_benign = torch.zeros(data_benign_t.shape[0], dtype=torch.long) # True label is 0 for benign\n",
        "\n"
      ],
      "metadata": {
        "id": "Z6qeGeaxBjf7"
      },
      "execution_count": null,
      "outputs": []
    },
    {
      "cell_type": "code",
      "source": [
        "import pandas as pd\n",
        "import os\n",
        "\n",
        "# Define the paths to the folders\n",
        "folder_path_1 = \"/content/N-BAIoT Dataset/1\"\n",
        "folder_path_2 = \"/content/N-BAIoT Dataset/2\"\n",
        "\n",
        "# List to hold DataFrames from all files\n",
        "all_dfs = []\n",
        "\n",
        "# Function to read and append CSVs from a folder\n",
        "def read_csvs_from_folder(folder_path):\n",
        "    for filename in os.listdir(folder_path):\n",
        "        if filename.endswith(\".csv\"):\n",
        "            file_path = os.path.join(folder_path, filename)\n",
        "            try:\n",
        "                df = pd.read_csv(file_path)\n",
        "                all_dfs.append(df)\n",
        "                print(f\"Read file: {file_path}\")\n",
        "            except Exception as e:\n",
        "                print(f\"Error reading file {file_path}: {e}\")\n",
        "\n",
        "# Read CSVs from both folders\n",
        "read_csvs_from_folder(folder_path_1)\n",
        "read_csvs_from_folder(folder_path_2)\n",
        "\n",
        "# Concatenate all DataFrames in the list\n",
        "if all_dfs:\n",
        "    df_junk = pd.concat(all_dfs, ignore_index=True)\n",
        "    print(\"\\nSuccessfully merged all anomaly CSV files.\")\n",
        "    print(df_junk.head())\n",
        "else:\n",
        "    print(\"\\nNo CSV files found in the specified folders.\")\n",
        "\n",
        "\n",
        "data_junk, _ = preprocess_data(df_junk) # Discarding the scaler\n",
        "data_junk = np.nan_to_num(data_junk, nan=0.0, posinf=0.0, neginf=0.0)\n",
        "data_junk_t = torch.tensor(data_junk, dtype=torch.float32)\n",
        "labels_junk = torch.ones(data_junk_t.shape[0], dtype=torch.long) # True label is 1 for anamoly"
      ],
      "metadata": {
        "colab": {
          "base_uri": "https://localhost:8080/"
        },
        "collapsed": true,
        "id": "Dib37FgCfiVr",
        "outputId": "7e4b5813-c4c9-4c9a-97bb-b741c5980ee3"
      },
      "execution_count": null,
      "outputs": [
        {
          "output_type": "stream",
          "name": "stdout",
          "text": [
            "Read file: /content/N-BAIoT Dataset/1/1.mirai.scan.csv\n",
            "Read file: /content/N-BAIoT Dataset/1/1.gafgyt.udp.csv\n",
            "Read file: /content/N-BAIoT Dataset/1/1.mirai.syn.csv\n",
            "Read file: /content/N-BAIoT Dataset/1/1.gafgyt.combo.csv\n",
            "Read file: /content/N-BAIoT Dataset/1/1.mirai.ack.csv\n",
            "Read file: /content/N-BAIoT Dataset/1/1.gafgyt.tcp.csv\n",
            "Read file: /content/N-BAIoT Dataset/1/1.gafgyt.scan.csv\n",
            "Read file: /content/N-BAIoT Dataset/1/1.gafgyt.junk.csv\n",
            "Read file: /content/N-BAIoT Dataset/1/1.mirai.udp.csv\n",
            "Read file: /content/N-BAIoT Dataset/1/1.mirai.udpplain.csv\n",
            "Read file: /content/N-BAIoT Dataset/2/2.gafgyt.udp.csv\n",
            "Read file: /content/N-BAIoT Dataset/2/2.mirai.udpplain.csv\n",
            "Read file: /content/N-BAIoT Dataset/2/2.mirai.syn.csv\n",
            "Read file: /content/N-BAIoT Dataset/2/2.gafgyt.combo.csv\n",
            "Read file: /content/N-BAIoT Dataset/2/2.mirai.ack.csv\n",
            "Read file: /content/N-BAIoT Dataset/2/2.gafgyt.tcp.csv\n",
            "Read file: /content/N-BAIoT Dataset/2/2.mirai.udp.csv\n",
            "Read file: /content/N-BAIoT Dataset/2/2.gafgyt.junk.csv\n",
            "Read file: /content/N-BAIoT Dataset/2/2.gafgyt.scan.csv\n",
            "Read file: /content/N-BAIoT Dataset/2/2.mirai.scan.csv\n",
            "\n",
            "Successfully merged all anomaly CSV files.\n",
            "   MI_dir_L5_weight  MI_dir_L5_mean  MI_dir_L5_variance  MI_dir_L3_weight  \\\n",
            "0          1.000000       75.000000            0.000000          1.000000   \n",
            "1          1.106002       61.437635           19.497725          1.260128   \n",
            "2          2.105991       60.754994           10.754895          2.260121   \n",
            "3          3.105975       60.511916            7.416684          3.260111   \n",
            "4          4.105965       60.387240            5.658644          4.260104   \n",
            "\n",
            "   MI_dir_L3_mean  MI_dir_L3_variance  MI_dir_L1_weight  MI_dir_L1_mean  \\\n",
            "0       75.000000            0.000000          1.000000       75.000000   \n",
            "1       63.096451           36.858761          1.638356       65.844478   \n",
            "2       61.726414           22.915699          2.638352       63.629278   \n",
            "3       61.196857           16.520386          3.638348       62.631771   \n",
            "4       60.915911           12.899777          4.638346       62.064377   \n",
            "\n",
            "   MI_dir_L1_variance  MI_dir_L0.1_weight  ...  HpHp_L0.1_radius  \\\n",
            "0            0.000000            1.000000  ...               0.0   \n",
            "1           53.509247            1.956106  ...               0.0   \n",
            "2           41.267511            2.956106  ...               0.0   \n",
            "3           32.550346            3.956106  ...               0.0   \n",
            "4           26.703999            4.956105  ...               0.0   \n",
            "\n",
            "   HpHp_L0.1_covariance  HpHp_L0.1_pcc  HpHp_L0.01_weight  HpHp_L0.01_mean  \\\n",
            "0                   0.0            0.0                1.0             75.0   \n",
            "1                   0.0            0.0                1.0             60.0   \n",
            "2                   0.0            0.0                1.0             60.0   \n",
            "3                   0.0            0.0                1.0             60.0   \n",
            "4                   0.0            0.0                1.0             60.0   \n",
            "\n",
            "   HpHp_L0.01_std  HpHp_L0.01_magnitude  HpHp_L0.01_radius  \\\n",
            "0             0.0                  75.0                0.0   \n",
            "1             0.0                  60.0                0.0   \n",
            "2             0.0                  60.0                0.0   \n",
            "3             0.0                  60.0                0.0   \n",
            "4             0.0                  60.0                0.0   \n",
            "\n",
            "   HpHp_L0.01_covariance  HpHp_L0.01_pcc  \n",
            "0                    0.0             0.0  \n",
            "1                    0.0             0.0  \n",
            "2                    0.0             0.0  \n",
            "3                    0.0             0.0  \n",
            "4                    0.0             0.0  \n",
            "\n",
            "[5 rows x 115 columns]\n"
          ]
        }
      ]
    },
    {
      "cell_type": "code",
      "source": [
        "\n",
        "# Combine the data and labels\n",
        "all_data_t = torch.cat((data_benign_t, data_junk_t), dim=0)\n",
        "true_labels = torch.cat((labels_benign, labels_junk), dim=0)\n"
      ],
      "metadata": {
        "id": "jFs7idn5guYk"
      },
      "execution_count": null,
      "outputs": []
    },
    {
      "cell_type": "code",
      "source": [
        "from collections import OrderedDict\n",
        "\n",
        "\n",
        "#checkpoint_path = 'my_checkpoints/parameters_round_2.pkl'\n",
        "\n",
        "# Load the checkpoint data\n",
        "with open(checkpoint_path, 'rb') as h:\n",
        "    checkpoint_data = pickle.load(h)\n",
        "\n",
        "# Extract the global parameters (list of NumPy arrays)\n",
        "global_parameters_ndarrays = checkpoint_data['globa_parameters']\n",
        "temp_model = Autoencoder(all_data_t.shape[1])\n",
        "state_dict_keys = list(temp_model.state_dict().keys())\n",
        "\n",
        "loaded_state_dict = OrderedDict(zip(state_dict_keys, [torch.tensor(v) for v in global_parameters_ndarrays]))\n",
        "\n",
        "input_dim = all_data_t.shape[1]\n",
        "autoencoder_inference = Autoencoder(input_dim)\n",
        "\n",
        "# Load the state dictionary from the checkpoint\n",
        "autoencoder_inference.load_state_dict(loaded_state_dict)\n",
        "#autoencoder_inference.to(device)\n",
        "autoencoder_inference.eval()\n"
      ],
      "metadata": {
        "colab": {
          "base_uri": "https://localhost:8080/"
        },
        "collapsed": true,
        "id": "cfbAxV0pOktF",
        "outputId": "d75ed32e-2012-4e26-86e8-0285acc0b54c"
      },
      "execution_count": null,
      "outputs": [
        {
          "output_type": "execute_result",
          "data": {
            "text/plain": [
              "Autoencoder(\n",
              "  (encoder): Sequential(\n",
              "    (0): Linear(in_features=115, out_features=256, bias=True)\n",
              "    (1): ReLU()\n",
              "    (2): BatchNorm1d(256, eps=1e-05, momentum=0.1, affine=True, track_running_stats=True)\n",
              "    (3): Linear(in_features=256, out_features=128, bias=True)\n",
              "    (4): ReLU()\n",
              "    (5): BatchNorm1d(128, eps=1e-05, momentum=0.1, affine=True, track_running_stats=True)\n",
              "  )\n",
              "  (decoder): Sequential(\n",
              "    (0): Linear(in_features=128, out_features=256, bias=True)\n",
              "    (1): ReLU()\n",
              "    (2): BatchNorm1d(256, eps=1e-05, momentum=0.1, affine=True, track_running_stats=True)\n",
              "    (3): Linear(in_features=256, out_features=115, bias=True)\n",
              "    (4): Tanh()\n",
              "  )\n",
              ")"
            ]
          },
          "metadata": {},
          "execution_count": 50
        }
      ]
    },
    {
      "cell_type": "code",
      "source": [
        "#  Calculate Reconstruction Errors\n",
        "reconstruction_errors = []\n",
        "criterion = nn.MSELoss(reduction='none') # Use reduction='none' to get loss per data point\n",
        "\n",
        "with torch.no_grad():\n",
        "    for i in range(all_data_t.shape[0]):\n",
        "        data_point = all_data_t[i].unsqueeze(0)\n",
        "        output = autoencoder_inference(data_point)\n",
        "        # Calculate MSE loss for this data point\n",
        "        loss = criterion(output, data_point).mean() # Mean over features for each data point\n",
        "        reconstruction_errors.append(loss.item())\n",
        "\n",
        "\n"
      ],
      "metadata": {
        "collapsed": true,
        "id": "n0AdCIwKBsHE"
      },
      "execution_count": null,
      "outputs": []
    },
    {
      "cell_type": "code",
      "source": [
        "#threshold = 0.0295\n",
        "print(f\"Using threshold: {threshold}\")\n",
        "\n",
        "predicted_anomalies = [1 if error > threshold else 0 for error in reconstruction_errors]\n",
        "predicted_anomalies_t = torch.tensor(predicted_anomalies, dtype=torch.long)"
      ],
      "metadata": {
        "colab": {
          "base_uri": "https://localhost:8080/"
        },
        "id": "3yHKKn0myBOD",
        "outputId": "d3d5b9f3-f973-46e3-cef6-d9a48499e8ed"
      },
      "execution_count": null,
      "outputs": [
        {
          "output_type": "stream",
          "name": "stdout",
          "text": [
            "Using threshold: 0.015380963695564187\n"
          ]
        }
      ]
    },
    {
      "cell_type": "code",
      "source": [
        "# --- Calculate Confusion Matrix and Metrics ---\n",
        "\n",
        "# Ensure both true_labels and predicted_anomalies_t are on CPU and are the same data type (e.g., long)\n",
        "true_labels_np = true_labels.cpu().numpy()\n",
        "predicted_anomalies_np = predicted_anomalies_t.cpu().numpy()\n",
        "\n",
        "\n",
        "# Calculate the confusion matrix\n",
        "cm = confusion_matrix(true_labels_np, predicted_anomalies_np)\n",
        "print(\"\\nConfusion Matrix:\")\n",
        "print(cm)\n",
        "\n",
        "# Calculate other metrics\n",
        "accuracy = accuracy_score(true_labels_np, predicted_anomalies_np)\n",
        "precision = precision_score(true_labels_np, predicted_anomalies_np, zero_division=0) # Handle case with no positive predictions\n",
        "recall = recall_score(true_labels_np, predicted_anomalies_np, zero_division=0) # Handle case with no actual positives\n",
        "f1 = f1_score(true_labels_np, predicted_anomalies_np, zero_division=0) # Handle case with no positive predictions or actual positives\n",
        "\n",
        "print(f\"\\nAccuracy: {accuracy:.4f}\")\n",
        "print(f\"Precision: {precision:.4f}\")\n",
        "print(f\"Recall: {recall:.4f}\")\n",
        "print(f\"F1-score: {f1:.4f}\")\n",
        "\n"
      ],
      "metadata": {
        "colab": {
          "base_uri": "https://localhost:8080/"
        },
        "id": "ZFOqOcadR7Bq",
        "outputId": "e74a722c-a4df-4ef8-a24e-c8d075cfa196"
      },
      "execution_count": null,
      "outputs": [
        {
          "output_type": "stream",
          "name": "stdout",
          "text": [
            "\n",
            "Confusion Matrix:\n",
            "[[  60233    2428]\n",
            " [  18424 1773089]]\n",
            "\n",
            "Accuracy: 0.9888\n",
            "Precision: 0.9986\n",
            "Recall: 0.9897\n",
            "F1-score: 0.9942\n"
          ]
        }
      ]
    },
    {
      "cell_type": "code",
      "source": [
        "from sklearn.metrics import ConfusionMatrixDisplay\n",
        "import matplotlib.pyplot as plt\n",
        "\n",
        "# Create a ConfusionMatrixDisplay object\n",
        "# Define the display labels (optional, but good practice)\n",
        "display_labels = [\"Benign\", \"Junk\"]\n",
        "\n",
        "# Create the ConfusionMatrixDisplay object\n",
        "disp = ConfusionMatrixDisplay(confusion_matrix=cm, display_labels=display_labels)\n",
        "\n",
        "# Plot the confusion matrix\n",
        "disp.plot(cmap=plt.cm.Blues) # You can choose a different colormap\n",
        "\n",
        "plt.title(\"Confusion Matrix\")\n",
        "plt.show()"
      ],
      "metadata": {
        "colab": {
          "base_uri": "https://localhost:8080/",
          "height": 472
        },
        "id": "SxSkylaoZi84",
        "outputId": "c7183b16-19b5-485c-a94c-e26fc9c28b21"
      },
      "execution_count": null,
      "outputs": [
        {
          "output_type": "display_data",
          "data": {
            "text/plain": [
              "<Figure size 640x480 with 2 Axes>"
            ],
            "image/png": "[encoded data removed]"
          },
          "metadata": {}
        }
      ]
    }
  ]
}